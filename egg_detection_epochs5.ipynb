{
  "metadata": {
    "kernelspec": {
      "language": "python",
      "display_name": "Python 3",
      "name": "python3"
    },
    "language_info": {
      "name": "python",
      "version": "3.10.12",
      "mimetype": "text/x-python",
      "codemirror_mode": {
        "name": "ipython",
        "version": 3
      },
      "pygments_lexer": "ipython3",
      "nbconvert_exporter": "python",
      "file_extension": ".py"
    },
    "colab": {
      "provenance": [],
      "include_colab_link": true
    }
  },
  "nbformat_minor": 0,
  "nbformat": 4,
  "cells": [
    {
      "cell_type": "markdown",
      "metadata": {
        "id": "view-in-github",
        "colab_type": "text"
      },
      "source": [
        "<a href=\"https://colab.research.google.com/github/KavinduKariyawasam/Parasitic-Egg-Detection/blob/main/egg_detection_epochs5.ipynb\" target=\"_parent\"><img src=\"https://colab.research.google.com/assets/colab-badge.svg\" alt=\"Open In Colab\"/></a>"
      ]
    },
    {
      "cell_type": "code",
      "source": [
        "import shutil\n",
        "import os"
      ],
      "metadata": {
        "execution": {
          "iopub.status.busy": "2023-10-08T08:17:40.779354Z",
          "iopub.execute_input": "2023-10-08T08:17:40.779960Z",
          "iopub.status.idle": "2023-10-08T08:17:40.788085Z",
          "shell.execute_reply.started": "2023-10-08T08:17:40.779930Z",
          "shell.execute_reply": "2023-10-08T08:17:40.787204Z"
        },
        "trusted": true,
        "id": "HNffBmahHf6i"
      },
      "execution_count": null,
      "outputs": []
    },
    {
      "cell_type": "code",
      "source": [
        "#os.makedirs('/kaggle/working/Chula-ParasiteEgg-11')"
      ],
      "metadata": {
        "execution": {
          "iopub.status.busy": "2023-10-08T08:17:42.069303Z",
          "iopub.execute_input": "2023-10-08T08:17:42.070201Z",
          "iopub.status.idle": "2023-10-08T08:17:42.074581Z",
          "shell.execute_reply.started": "2023-10-08T08:17:42.070162Z",
          "shell.execute_reply": "2023-10-08T08:17:42.073534Z"
        },
        "trusted": true,
        "id": "b9Dfq4yCHf6j"
      },
      "execution_count": null,
      "outputs": []
    },
    {
      "cell_type": "code",
      "source": [
        "#shutil.rmtree(\"/kaggle/working/Chula-ParasiteEgg-11\")"
      ],
      "metadata": {
        "execution": {
          "iopub.status.busy": "2023-10-08T08:17:42.340308Z",
          "iopub.execute_input": "2023-10-08T08:17:42.340967Z",
          "iopub.status.idle": "2023-10-08T08:17:42.345755Z",
          "shell.execute_reply.started": "2023-10-08T08:17:42.340933Z",
          "shell.execute_reply": "2023-10-08T08:17:42.344665Z"
        },
        "trusted": true,
        "id": "IKqjqeitHf6j"
      },
      "execution_count": null,
      "outputs": []
    },
    {
      "cell_type": "code",
      "source": [
        "src_path = r\"/kaggle/input/chula-parasite-dataset/Chula-ParasiteEgg-11/Chula-ParasiteEgg-11/Chula-ParasiteEgg-11/data\"\n",
        "dst_path = r\"/kaggle/working/Chula-ParasiteEgg-11/images/train\""
      ],
      "metadata": {
        "execution": {
          "iopub.status.busy": "2023-10-08T08:17:42.689295Z",
          "iopub.execute_input": "2023-10-08T08:17:42.689988Z",
          "iopub.status.idle": "2023-10-08T08:17:42.694959Z",
          "shell.execute_reply.started": "2023-10-08T08:17:42.689953Z",
          "shell.execute_reply": "2023-10-08T08:17:42.693988Z"
        },
        "trusted": true,
        "id": "eH1IdwjZHf6k"
      },
      "execution_count": null,
      "outputs": []
    },
    {
      "cell_type": "code",
      "source": [
        "shutil.copytree(src_path, dst_path)\n",
        "print('Copied')"
      ],
      "metadata": {
        "execution": {
          "iopub.status.busy": "2023-10-08T08:17:49.530191Z",
          "iopub.execute_input": "2023-10-08T08:17:49.530530Z",
          "iopub.status.idle": "2023-10-08T08:22:02.255160Z",
          "shell.execute_reply.started": "2023-10-08T08:17:49.530499Z",
          "shell.execute_reply": "2023-10-08T08:22:02.254238Z"
        },
        "trusted": true,
        "id": "TH328kr7Hf6k",
        "outputId": "74f0cea6-5f02-49ad-ea7f-612710603c1a"
      },
      "execution_count": null,
      "outputs": [
        {
          "name": "stdout",
          "text": "Copied\n",
          "output_type": "stream"
        }
      ]
    },
    {
      "cell_type": "code",
      "source": [
        "import json\n",
        "from sklearn.model_selection import train_test_split\n",
        "import pandas as pd"
      ],
      "metadata": {
        "execution": {
          "iopub.status.busy": "2023-10-08T08:22:52.913950Z",
          "iopub.execute_input": "2023-10-08T08:22:52.914649Z",
          "iopub.status.idle": "2023-10-08T08:22:54.027631Z",
          "shell.execute_reply.started": "2023-10-08T08:22:52.914616Z",
          "shell.execute_reply": "2023-10-08T08:22:54.026729Z"
        },
        "trusted": true,
        "id": "Jt1qwHm2Hf6k",
        "outputId": "fd255359-81d3-4bd4-b415-56358e137dbf"
      },
      "execution_count": null,
      "outputs": [
        {
          "name": "stderr",
          "text": "/opt/conda/lib/python3.10/site-packages/scipy/__init__.py:146: UserWarning: A NumPy version >=1.16.5 and <1.23.0 is required for this version of SciPy (detected version 1.23.5\n  warnings.warn(f\"A NumPy version >={np_minversion} and <{np_maxversion}\"\n",
          "output_type": "stream"
        }
      ]
    },
    {
      "cell_type": "code",
      "source": [
        "file = open('/kaggle/input/chula-parasite-dataset/Chula-ParasiteEgg-11/Chula-ParasiteEgg-11/Chula-ParasiteEgg-11/labels.json')\n",
        "data = json.load(file)"
      ],
      "metadata": {
        "execution": {
          "iopub.status.busy": "2023-10-08T08:22:54.221188Z",
          "iopub.execute_input": "2023-10-08T08:22:54.221930Z",
          "iopub.status.idle": "2023-10-08T08:22:54.442101Z",
          "shell.execute_reply.started": "2023-10-08T08:22:54.221896Z",
          "shell.execute_reply": "2023-10-08T08:22:54.441175Z"
        },
        "trusted": true,
        "id": "sXqjVqLHHf6l"
      },
      "execution_count": null,
      "outputs": []
    },
    {
      "cell_type": "code",
      "source": [
        "image_df = pd.DataFrame.from_dict(pd.json_normalize(data['images']), orient='columns')\n",
        "image_df"
      ],
      "metadata": {
        "execution": {
          "iopub.status.busy": "2023-10-08T08:22:55.127662Z",
          "iopub.execute_input": "2023-10-08T08:22:55.127974Z",
          "iopub.status.idle": "2023-10-08T08:22:55.211764Z",
          "shell.execute_reply.started": "2023-10-08T08:22:55.127949Z",
          "shell.execute_reply": "2023-10-08T08:22:55.210783Z"
        },
        "trusted": true,
        "id": "SfkMTlbOHf6l",
        "outputId": "c203bd7a-b60b-4306-dee3-0c15a5b13331"
      },
      "execution_count": null,
      "outputs": [
        {
          "execution_count": 8,
          "output_type": "execute_result",
          "data": {
            "text/plain": "          id                  file_name  height  width  license coco_url\n0          1  Hymenolepis nana_0001.jpg     672   1280        1     None\n1          2  Hymenolepis nana_0002.jpg     960    896        1     None\n2          3  Hymenolepis nana_0003.jpg     672   1280        1     None\n3          4  Hymenolepis nana_0004.jpg     960   1280        1     None\n4          5  Hymenolepis nana_0005.jpg     960   1280        1     None\n...      ...                        ...     ...    ...      ...      ...\n10995  10996      Hookworm egg_0996.jpg    3264   1714        1     None\n10996  10997      Hookworm egg_0997.jpg    3264   2448        1     None\n10997  10998      Hookworm egg_0998.jpg    3264   2448        1     None\n10998  10999      Hookworm egg_0999.jpg    2285   2448        1     None\n10999  11000      Hookworm egg_1000.jpg    3264   1714        1     None\n\n[11000 rows x 6 columns]",
            "text/html": "<div>\n<style scoped>\n    .dataframe tbody tr th:only-of-type {\n        vertical-align: middle;\n    }\n\n    .dataframe tbody tr th {\n        vertical-align: top;\n    }\n\n    .dataframe thead th {\n        text-align: right;\n    }\n</style>\n<table border=\"1\" class=\"dataframe\">\n  <thead>\n    <tr style=\"text-align: right;\">\n      <th></th>\n      <th>id</th>\n      <th>file_name</th>\n      <th>height</th>\n      <th>width</th>\n      <th>license</th>\n      <th>coco_url</th>\n    </tr>\n  </thead>\n  <tbody>\n    <tr>\n      <th>0</th>\n      <td>1</td>\n      <td>Hymenolepis nana_0001.jpg</td>\n      <td>672</td>\n      <td>1280</td>\n      <td>1</td>\n      <td>None</td>\n    </tr>\n    <tr>\n      <th>1</th>\n      <td>2</td>\n      <td>Hymenolepis nana_0002.jpg</td>\n      <td>960</td>\n      <td>896</td>\n      <td>1</td>\n      <td>None</td>\n    </tr>\n    <tr>\n      <th>2</th>\n      <td>3</td>\n      <td>Hymenolepis nana_0003.jpg</td>\n      <td>672</td>\n      <td>1280</td>\n      <td>1</td>\n      <td>None</td>\n    </tr>\n    <tr>\n      <th>3</th>\n      <td>4</td>\n      <td>Hymenolepis nana_0004.jpg</td>\n      <td>960</td>\n      <td>1280</td>\n      <td>1</td>\n      <td>None</td>\n    </tr>\n    <tr>\n      <th>4</th>\n      <td>5</td>\n      <td>Hymenolepis nana_0005.jpg</td>\n      <td>960</td>\n      <td>1280</td>\n      <td>1</td>\n      <td>None</td>\n    </tr>\n    <tr>\n      <th>...</th>\n      <td>...</td>\n      <td>...</td>\n      <td>...</td>\n      <td>...</td>\n      <td>...</td>\n      <td>...</td>\n    </tr>\n    <tr>\n      <th>10995</th>\n      <td>10996</td>\n      <td>Hookworm egg_0996.jpg</td>\n      <td>3264</td>\n      <td>1714</td>\n      <td>1</td>\n      <td>None</td>\n    </tr>\n    <tr>\n      <th>10996</th>\n      <td>10997</td>\n      <td>Hookworm egg_0997.jpg</td>\n      <td>3264</td>\n      <td>2448</td>\n      <td>1</td>\n      <td>None</td>\n    </tr>\n    <tr>\n      <th>10997</th>\n      <td>10998</td>\n      <td>Hookworm egg_0998.jpg</td>\n      <td>3264</td>\n      <td>2448</td>\n      <td>1</td>\n      <td>None</td>\n    </tr>\n    <tr>\n      <th>10998</th>\n      <td>10999</td>\n      <td>Hookworm egg_0999.jpg</td>\n      <td>2285</td>\n      <td>2448</td>\n      <td>1</td>\n      <td>None</td>\n    </tr>\n    <tr>\n      <th>10999</th>\n      <td>11000</td>\n      <td>Hookworm egg_1000.jpg</td>\n      <td>3264</td>\n      <td>1714</td>\n      <td>1</td>\n      <td>None</td>\n    </tr>\n  </tbody>\n</table>\n<p>11000 rows × 6 columns</p>\n</div>"
          },
          "metadata": {}
        }
      ]
    },
    {
      "cell_type": "code",
      "source": [
        "annotation_df = pd.DataFrame.from_dict(pd.json_normalize(data['annotations']), orient='columns')\n",
        "annotation_df"
      ],
      "metadata": {
        "execution": {
          "iopub.status.busy": "2023-10-08T08:22:55.780296Z",
          "iopub.execute_input": "2023-10-08T08:22:55.781333Z",
          "iopub.status.idle": "2023-10-08T08:22:55.836450Z",
          "shell.execute_reply.started": "2023-10-08T08:22:55.781295Z",
          "shell.execute_reply": "2023-10-08T08:22:55.835512Z"
        },
        "trusted": true,
        "id": "98KokJ6SHf6l",
        "outputId": "b02fb639-047e-428b-ac0e-be7ab8c9eccd"
      },
      "execution_count": null,
      "outputs": [
        {
          "execution_count": 9,
          "output_type": "execute_result",
          "data": {
            "text/plain": "          id  image_id  category_id  \\\n0          1         1            6   \n1          2         2            6   \n2          3         3            6   \n3          4         4            6   \n4          5         5            6   \n...      ...       ...          ...   \n11026  11027     10996            4   \n11027  11028     10997            4   \n11028  11029     10998            4   \n11029  11030     10999            4   \n11030  11031     11000            4   \n\n                                             bbox     area  \n0                     [555.0, 76.0, 177.0, 188.0]  33276.0  \n1                    [549.0, 459.0, 178.0, 151.0]  26878.0  \n2                    [538.0, 449.0, 206.0, 170.0]  35020.0  \n3                    [542.0, 384.0, 173.0, 166.0]  28718.0  \n4                    [483.0, 373.0, 224.0, 190.0]  42560.0  \n...                                           ...      ...  \n11026               [523.0, 1611.0, 198.0, 262.0]  51876.0  \n11027              [1353.0, 1482.0, 218.0, 267.0]  58206.0  \n11028              [1366.0, 1754.0, 171.0, 298.0]  50958.0  \n11029  [1132.0, 1323.0000000000002, 211.0, 242.0]  51062.0  \n11030  [619.0, 1563.0, 222.00000000000003, 253.0]  56166.0  \n\n[11031 rows x 5 columns]",
            "text/html": "<div>\n<style scoped>\n    .dataframe tbody tr th:only-of-type {\n        vertical-align: middle;\n    }\n\n    .dataframe tbody tr th {\n        vertical-align: top;\n    }\n\n    .dataframe thead th {\n        text-align: right;\n    }\n</style>\n<table border=\"1\" class=\"dataframe\">\n  <thead>\n    <tr style=\"text-align: right;\">\n      <th></th>\n      <th>id</th>\n      <th>image_id</th>\n      <th>category_id</th>\n      <th>bbox</th>\n      <th>area</th>\n    </tr>\n  </thead>\n  <tbody>\n    <tr>\n      <th>0</th>\n      <td>1</td>\n      <td>1</td>\n      <td>6</td>\n      <td>[555.0, 76.0, 177.0, 188.0]</td>\n      <td>33276.0</td>\n    </tr>\n    <tr>\n      <th>1</th>\n      <td>2</td>\n      <td>2</td>\n      <td>6</td>\n      <td>[549.0, 459.0, 178.0, 151.0]</td>\n      <td>26878.0</td>\n    </tr>\n    <tr>\n      <th>2</th>\n      <td>3</td>\n      <td>3</td>\n      <td>6</td>\n      <td>[538.0, 449.0, 206.0, 170.0]</td>\n      <td>35020.0</td>\n    </tr>\n    <tr>\n      <th>3</th>\n      <td>4</td>\n      <td>4</td>\n      <td>6</td>\n      <td>[542.0, 384.0, 173.0, 166.0]</td>\n      <td>28718.0</td>\n    </tr>\n    <tr>\n      <th>4</th>\n      <td>5</td>\n      <td>5</td>\n      <td>6</td>\n      <td>[483.0, 373.0, 224.0, 190.0]</td>\n      <td>42560.0</td>\n    </tr>\n    <tr>\n      <th>...</th>\n      <td>...</td>\n      <td>...</td>\n      <td>...</td>\n      <td>...</td>\n      <td>...</td>\n    </tr>\n    <tr>\n      <th>11026</th>\n      <td>11027</td>\n      <td>10996</td>\n      <td>4</td>\n      <td>[523.0, 1611.0, 198.0, 262.0]</td>\n      <td>51876.0</td>\n    </tr>\n    <tr>\n      <th>11027</th>\n      <td>11028</td>\n      <td>10997</td>\n      <td>4</td>\n      <td>[1353.0, 1482.0, 218.0, 267.0]</td>\n      <td>58206.0</td>\n    </tr>\n    <tr>\n      <th>11028</th>\n      <td>11029</td>\n      <td>10998</td>\n      <td>4</td>\n      <td>[1366.0, 1754.0, 171.0, 298.0]</td>\n      <td>50958.0</td>\n    </tr>\n    <tr>\n      <th>11029</th>\n      <td>11030</td>\n      <td>10999</td>\n      <td>4</td>\n      <td>[1132.0, 1323.0000000000002, 211.0, 242.0]</td>\n      <td>51062.0</td>\n    </tr>\n    <tr>\n      <th>11030</th>\n      <td>11031</td>\n      <td>11000</td>\n      <td>4</td>\n      <td>[619.0, 1563.0, 222.00000000000003, 253.0]</td>\n      <td>56166.0</td>\n    </tr>\n  </tbody>\n</table>\n<p>11031 rows × 5 columns</p>\n</div>"
          },
          "metadata": {}
        }
      ]
    },
    {
      "cell_type": "code",
      "source": [
        "duplicate_values = annotation_df['image_id'].duplicated()\n",
        "duplicate_values"
      ],
      "metadata": {
        "execution": {
          "iopub.status.busy": "2023-10-08T08:22:56.272865Z",
          "iopub.execute_input": "2023-10-08T08:22:56.273891Z",
          "iopub.status.idle": "2023-10-08T08:22:56.284273Z",
          "shell.execute_reply.started": "2023-10-08T08:22:56.273852Z",
          "shell.execute_reply": "2023-10-08T08:22:56.283288Z"
        },
        "trusted": true,
        "id": "HKCxq-uPHf6l",
        "outputId": "ccba870f-fe8e-464f-dde4-4342ffb54c9e"
      },
      "execution_count": null,
      "outputs": [
        {
          "execution_count": 10,
          "output_type": "execute_result",
          "data": {
            "text/plain": "0        False\n1        False\n2        False\n3        False\n4        False\n         ...  \n11026    False\n11027    False\n11028    False\n11029    False\n11030    False\nName: image_id, Length: 11031, dtype: bool"
          },
          "metadata": {}
        }
      ]
    },
    {
      "cell_type": "code",
      "source": [
        "merged_df = pd.merge(image_df, annotation_df, left_on='id', right_on='image_id', how='inner')\n",
        "\n",
        "# Drop the extra 'image_id' column as it's now redundant\n",
        "merged_df.drop(columns=['image_id'], inplace=True)\n",
        "merged_df"
      ],
      "metadata": {
        "execution": {
          "iopub.status.busy": "2023-10-08T08:22:56.810712Z",
          "iopub.execute_input": "2023-10-08T08:22:56.811205Z",
          "iopub.status.idle": "2023-10-08T08:22:56.842820Z",
          "shell.execute_reply.started": "2023-10-08T08:22:56.811179Z",
          "shell.execute_reply": "2023-10-08T08:22:56.841848Z"
        },
        "trusted": true,
        "id": "iMZ-qmKDHf6m",
        "outputId": "80af5213-0ef4-4d9b-dd4c-1cf89663032e"
      },
      "execution_count": null,
      "outputs": [
        {
          "execution_count": 11,
          "output_type": "execute_result",
          "data": {
            "text/plain": "        id_x                  file_name  height  width  license coco_url  \\\n0          1  Hymenolepis nana_0001.jpg     672   1280        1     None   \n1          2  Hymenolepis nana_0002.jpg     960    896        1     None   \n2          3  Hymenolepis nana_0003.jpg     672   1280        1     None   \n3          4  Hymenolepis nana_0004.jpg     960   1280        1     None   \n4          5  Hymenolepis nana_0005.jpg     960   1280        1     None   \n...      ...                        ...     ...    ...      ...      ...   \n11026  10996      Hookworm egg_0996.jpg    3264   1714        1     None   \n11027  10997      Hookworm egg_0997.jpg    3264   2448        1     None   \n11028  10998      Hookworm egg_0998.jpg    3264   2448        1     None   \n11029  10999      Hookworm egg_0999.jpg    2285   2448        1     None   \n11030  11000      Hookworm egg_1000.jpg    3264   1714        1     None   \n\n        id_y  category_id                                        bbox     area  \n0          1            6                 [555.0, 76.0, 177.0, 188.0]  33276.0  \n1          2            6                [549.0, 459.0, 178.0, 151.0]  26878.0  \n2          3            6                [538.0, 449.0, 206.0, 170.0]  35020.0  \n3          4            6                [542.0, 384.0, 173.0, 166.0]  28718.0  \n4          5            6                [483.0, 373.0, 224.0, 190.0]  42560.0  \n...      ...          ...                                         ...      ...  \n11026  11027            4               [523.0, 1611.0, 198.0, 262.0]  51876.0  \n11027  11028            4              [1353.0, 1482.0, 218.0, 267.0]  58206.0  \n11028  11029            4              [1366.0, 1754.0, 171.0, 298.0]  50958.0  \n11029  11030            4  [1132.0, 1323.0000000000002, 211.0, 242.0]  51062.0  \n11030  11031            4  [619.0, 1563.0, 222.00000000000003, 253.0]  56166.0  \n\n[11031 rows x 10 columns]",
            "text/html": "<div>\n<style scoped>\n    .dataframe tbody tr th:only-of-type {\n        vertical-align: middle;\n    }\n\n    .dataframe tbody tr th {\n        vertical-align: top;\n    }\n\n    .dataframe thead th {\n        text-align: right;\n    }\n</style>\n<table border=\"1\" class=\"dataframe\">\n  <thead>\n    <tr style=\"text-align: right;\">\n      <th></th>\n      <th>id_x</th>\n      <th>file_name</th>\n      <th>height</th>\n      <th>width</th>\n      <th>license</th>\n      <th>coco_url</th>\n      <th>id_y</th>\n      <th>category_id</th>\n      <th>bbox</th>\n      <th>area</th>\n    </tr>\n  </thead>\n  <tbody>\n    <tr>\n      <th>0</th>\n      <td>1</td>\n      <td>Hymenolepis nana_0001.jpg</td>\n      <td>672</td>\n      <td>1280</td>\n      <td>1</td>\n      <td>None</td>\n      <td>1</td>\n      <td>6</td>\n      <td>[555.0, 76.0, 177.0, 188.0]</td>\n      <td>33276.0</td>\n    </tr>\n    <tr>\n      <th>1</th>\n      <td>2</td>\n      <td>Hymenolepis nana_0002.jpg</td>\n      <td>960</td>\n      <td>896</td>\n      <td>1</td>\n      <td>None</td>\n      <td>2</td>\n      <td>6</td>\n      <td>[549.0, 459.0, 178.0, 151.0]</td>\n      <td>26878.0</td>\n    </tr>\n    <tr>\n      <th>2</th>\n      <td>3</td>\n      <td>Hymenolepis nana_0003.jpg</td>\n      <td>672</td>\n      <td>1280</td>\n      <td>1</td>\n      <td>None</td>\n      <td>3</td>\n      <td>6</td>\n      <td>[538.0, 449.0, 206.0, 170.0]</td>\n      <td>35020.0</td>\n    </tr>\n    <tr>\n      <th>3</th>\n      <td>4</td>\n      <td>Hymenolepis nana_0004.jpg</td>\n      <td>960</td>\n      <td>1280</td>\n      <td>1</td>\n      <td>None</td>\n      <td>4</td>\n      <td>6</td>\n      <td>[542.0, 384.0, 173.0, 166.0]</td>\n      <td>28718.0</td>\n    </tr>\n    <tr>\n      <th>4</th>\n      <td>5</td>\n      <td>Hymenolepis nana_0005.jpg</td>\n      <td>960</td>\n      <td>1280</td>\n      <td>1</td>\n      <td>None</td>\n      <td>5</td>\n      <td>6</td>\n      <td>[483.0, 373.0, 224.0, 190.0]</td>\n      <td>42560.0</td>\n    </tr>\n    <tr>\n      <th>...</th>\n      <td>...</td>\n      <td>...</td>\n      <td>...</td>\n      <td>...</td>\n      <td>...</td>\n      <td>...</td>\n      <td>...</td>\n      <td>...</td>\n      <td>...</td>\n      <td>...</td>\n    </tr>\n    <tr>\n      <th>11026</th>\n      <td>10996</td>\n      <td>Hookworm egg_0996.jpg</td>\n      <td>3264</td>\n      <td>1714</td>\n      <td>1</td>\n      <td>None</td>\n      <td>11027</td>\n      <td>4</td>\n      <td>[523.0, 1611.0, 198.0, 262.0]</td>\n      <td>51876.0</td>\n    </tr>\n    <tr>\n      <th>11027</th>\n      <td>10997</td>\n      <td>Hookworm egg_0997.jpg</td>\n      <td>3264</td>\n      <td>2448</td>\n      <td>1</td>\n      <td>None</td>\n      <td>11028</td>\n      <td>4</td>\n      <td>[1353.0, 1482.0, 218.0, 267.0]</td>\n      <td>58206.0</td>\n    </tr>\n    <tr>\n      <th>11028</th>\n      <td>10998</td>\n      <td>Hookworm egg_0998.jpg</td>\n      <td>3264</td>\n      <td>2448</td>\n      <td>1</td>\n      <td>None</td>\n      <td>11029</td>\n      <td>4</td>\n      <td>[1366.0, 1754.0, 171.0, 298.0]</td>\n      <td>50958.0</td>\n    </tr>\n    <tr>\n      <th>11029</th>\n      <td>10999</td>\n      <td>Hookworm egg_0999.jpg</td>\n      <td>2285</td>\n      <td>2448</td>\n      <td>1</td>\n      <td>None</td>\n      <td>11030</td>\n      <td>4</td>\n      <td>[1132.0, 1323.0000000000002, 211.0, 242.0]</td>\n      <td>51062.0</td>\n    </tr>\n    <tr>\n      <th>11030</th>\n      <td>11000</td>\n      <td>Hookworm egg_1000.jpg</td>\n      <td>3264</td>\n      <td>1714</td>\n      <td>1</td>\n      <td>None</td>\n      <td>11031</td>\n      <td>4</td>\n      <td>[619.0, 1563.0, 222.00000000000003, 253.0]</td>\n      <td>56166.0</td>\n    </tr>\n  </tbody>\n</table>\n<p>11031 rows × 10 columns</p>\n</div>"
          },
          "metadata": {}
        }
      ]
    },
    {
      "cell_type": "code",
      "source": [
        "# Calculate bbox_yolo values\n",
        "merged_df['bbox_yolo'] = merged_df.apply(lambda row: [\n",
        "    ((row['bbox'][0] + row['bbox'][2] / 2) / row['width']),\n",
        "    ((row['bbox'][1] + row['bbox'][3] / 2) / row['height']),\n",
        "    (row['bbox'][2] / row['width']),\n",
        "    (row['bbox'][3] / row['height'])\n",
        "], axis=1)\n",
        "\n",
        "# Display the DataFrame with the new bbox_yolo field\n",
        "merged_df"
      ],
      "metadata": {
        "execution": {
          "iopub.status.busy": "2023-10-08T08:22:57.508725Z",
          "iopub.execute_input": "2023-10-08T08:22:57.509042Z",
          "iopub.status.idle": "2023-10-08T08:22:57.781439Z",
          "shell.execute_reply.started": "2023-10-08T08:22:57.509017Z",
          "shell.execute_reply": "2023-10-08T08:22:57.780504Z"
        },
        "trusted": true,
        "id": "7Y0KrIC1Hf6m",
        "outputId": "15a56e0a-9939-40cf-b8fa-f04360324766"
      },
      "execution_count": null,
      "outputs": [
        {
          "execution_count": 12,
          "output_type": "execute_result",
          "data": {
            "text/plain": "        id_x                  file_name  height  width  license coco_url  \\\n0          1  Hymenolepis nana_0001.jpg     672   1280        1     None   \n1          2  Hymenolepis nana_0002.jpg     960    896        1     None   \n2          3  Hymenolepis nana_0003.jpg     672   1280        1     None   \n3          4  Hymenolepis nana_0004.jpg     960   1280        1     None   \n4          5  Hymenolepis nana_0005.jpg     960   1280        1     None   \n...      ...                        ...     ...    ...      ...      ...   \n11026  10996      Hookworm egg_0996.jpg    3264   1714        1     None   \n11027  10997      Hookworm egg_0997.jpg    3264   2448        1     None   \n11028  10998      Hookworm egg_0998.jpg    3264   2448        1     None   \n11029  10999      Hookworm egg_0999.jpg    2285   2448        1     None   \n11030  11000      Hookworm egg_1000.jpg    3264   1714        1     None   \n\n        id_y  category_id                                        bbox  \\\n0          1            6                 [555.0, 76.0, 177.0, 188.0]   \n1          2            6                [549.0, 459.0, 178.0, 151.0]   \n2          3            6                [538.0, 449.0, 206.0, 170.0]   \n3          4            6                [542.0, 384.0, 173.0, 166.0]   \n4          5            6                [483.0, 373.0, 224.0, 190.0]   \n...      ...          ...                                         ...   \n11026  11027            4               [523.0, 1611.0, 198.0, 262.0]   \n11027  11028            4              [1353.0, 1482.0, 218.0, 267.0]   \n11028  11029            4              [1366.0, 1754.0, 171.0, 298.0]   \n11029  11030            4  [1132.0, 1323.0000000000002, 211.0, 242.0]   \n11030  11031            4  [619.0, 1563.0, 222.00000000000003, 253.0]   \n\n          area                                          bbox_yolo  \n0      33276.0  [0.502734375, 0.25297619047619047, 0.13828125,...  \n1      26878.0  [0.7120535714285714, 0.5567708333333333, 0.198...  \n2      35020.0  [0.50078125, 0.7946428571428571, 0.1609375, 0....  \n3      28718.0  [0.491015625, 0.4864583333333333, 0.13515625, ...  \n4      42560.0   [0.46484375, 0.4875, 0.175, 0.19791666666666666]  \n...        ...                                                ...  \n11026  51876.0  [0.3628938156359393, 0.5337009803921569, 0.115...  \n11027  58206.0  [0.5972222222222222, 0.49494485294117646, 0.08...  \n11028  50958.0  [0.5929330065359477, 0.5830269607843137, 0.069...  \n11029  51062.0  [0.5055147058823529, 0.6319474835886215, 0.086...  \n11030  56166.0  [0.425904317386231, 0.5176164215686274, 0.1295...  \n\n[11031 rows x 11 columns]",
            "text/html": "<div>\n<style scoped>\n    .dataframe tbody tr th:only-of-type {\n        vertical-align: middle;\n    }\n\n    .dataframe tbody tr th {\n        vertical-align: top;\n    }\n\n    .dataframe thead th {\n        text-align: right;\n    }\n</style>\n<table border=\"1\" class=\"dataframe\">\n  <thead>\n    <tr style=\"text-align: right;\">\n      <th></th>\n      <th>id_x</th>\n      <th>file_name</th>\n      <th>height</th>\n      <th>width</th>\n      <th>license</th>\n      <th>coco_url</th>\n      <th>id_y</th>\n      <th>category_id</th>\n      <th>bbox</th>\n      <th>area</th>\n      <th>bbox_yolo</th>\n    </tr>\n  </thead>\n  <tbody>\n    <tr>\n      <th>0</th>\n      <td>1</td>\n      <td>Hymenolepis nana_0001.jpg</td>\n      <td>672</td>\n      <td>1280</td>\n      <td>1</td>\n      <td>None</td>\n      <td>1</td>\n      <td>6</td>\n      <td>[555.0, 76.0, 177.0, 188.0]</td>\n      <td>33276.0</td>\n      <td>[0.502734375, 0.25297619047619047, 0.13828125,...</td>\n    </tr>\n    <tr>\n      <th>1</th>\n      <td>2</td>\n      <td>Hymenolepis nana_0002.jpg</td>\n      <td>960</td>\n      <td>896</td>\n      <td>1</td>\n      <td>None</td>\n      <td>2</td>\n      <td>6</td>\n      <td>[549.0, 459.0, 178.0, 151.0]</td>\n      <td>26878.0</td>\n      <td>[0.7120535714285714, 0.5567708333333333, 0.198...</td>\n    </tr>\n    <tr>\n      <th>2</th>\n      <td>3</td>\n      <td>Hymenolepis nana_0003.jpg</td>\n      <td>672</td>\n      <td>1280</td>\n      <td>1</td>\n      <td>None</td>\n      <td>3</td>\n      <td>6</td>\n      <td>[538.0, 449.0, 206.0, 170.0]</td>\n      <td>35020.0</td>\n      <td>[0.50078125, 0.7946428571428571, 0.1609375, 0....</td>\n    </tr>\n    <tr>\n      <th>3</th>\n      <td>4</td>\n      <td>Hymenolepis nana_0004.jpg</td>\n      <td>960</td>\n      <td>1280</td>\n      <td>1</td>\n      <td>None</td>\n      <td>4</td>\n      <td>6</td>\n      <td>[542.0, 384.0, 173.0, 166.0]</td>\n      <td>28718.0</td>\n      <td>[0.491015625, 0.4864583333333333, 0.13515625, ...</td>\n    </tr>\n    <tr>\n      <th>4</th>\n      <td>5</td>\n      <td>Hymenolepis nana_0005.jpg</td>\n      <td>960</td>\n      <td>1280</td>\n      <td>1</td>\n      <td>None</td>\n      <td>5</td>\n      <td>6</td>\n      <td>[483.0, 373.0, 224.0, 190.0]</td>\n      <td>42560.0</td>\n      <td>[0.46484375, 0.4875, 0.175, 0.19791666666666666]</td>\n    </tr>\n    <tr>\n      <th>...</th>\n      <td>...</td>\n      <td>...</td>\n      <td>...</td>\n      <td>...</td>\n      <td>...</td>\n      <td>...</td>\n      <td>...</td>\n      <td>...</td>\n      <td>...</td>\n      <td>...</td>\n      <td>...</td>\n    </tr>\n    <tr>\n      <th>11026</th>\n      <td>10996</td>\n      <td>Hookworm egg_0996.jpg</td>\n      <td>3264</td>\n      <td>1714</td>\n      <td>1</td>\n      <td>None</td>\n      <td>11027</td>\n      <td>4</td>\n      <td>[523.0, 1611.0, 198.0, 262.0]</td>\n      <td>51876.0</td>\n      <td>[0.3628938156359393, 0.5337009803921569, 0.115...</td>\n    </tr>\n    <tr>\n      <th>11027</th>\n      <td>10997</td>\n      <td>Hookworm egg_0997.jpg</td>\n      <td>3264</td>\n      <td>2448</td>\n      <td>1</td>\n      <td>None</td>\n      <td>11028</td>\n      <td>4</td>\n      <td>[1353.0, 1482.0, 218.0, 267.0]</td>\n      <td>58206.0</td>\n      <td>[0.5972222222222222, 0.49494485294117646, 0.08...</td>\n    </tr>\n    <tr>\n      <th>11028</th>\n      <td>10998</td>\n      <td>Hookworm egg_0998.jpg</td>\n      <td>3264</td>\n      <td>2448</td>\n      <td>1</td>\n      <td>None</td>\n      <td>11029</td>\n      <td>4</td>\n      <td>[1366.0, 1754.0, 171.0, 298.0]</td>\n      <td>50958.0</td>\n      <td>[0.5929330065359477, 0.5830269607843137, 0.069...</td>\n    </tr>\n    <tr>\n      <th>11029</th>\n      <td>10999</td>\n      <td>Hookworm egg_0999.jpg</td>\n      <td>2285</td>\n      <td>2448</td>\n      <td>1</td>\n      <td>None</td>\n      <td>11030</td>\n      <td>4</td>\n      <td>[1132.0, 1323.0000000000002, 211.0, 242.0]</td>\n      <td>51062.0</td>\n      <td>[0.5055147058823529, 0.6319474835886215, 0.086...</td>\n    </tr>\n    <tr>\n      <th>11030</th>\n      <td>11000</td>\n      <td>Hookworm egg_1000.jpg</td>\n      <td>3264</td>\n      <td>1714</td>\n      <td>1</td>\n      <td>None</td>\n      <td>11031</td>\n      <td>4</td>\n      <td>[619.0, 1563.0, 222.00000000000003, 253.0]</td>\n      <td>56166.0</td>\n      <td>[0.425904317386231, 0.5176164215686274, 0.1295...</td>\n    </tr>\n  </tbody>\n</table>\n<p>11031 rows × 11 columns</p>\n</div>"
          },
          "metadata": {}
        }
      ]
    },
    {
      "cell_type": "code",
      "source": [
        "import pandas as pd\n",
        "import os\n",
        "\n",
        "output_dir = '/kaggle/working/Chula-ParasiteEgg-11/labels/train'\n",
        "\n",
        "# Create the output directory if it doesn't exist\n",
        "os.makedirs(output_dir, exist_ok=True)\n",
        "\n",
        "# Iterate through the rows and create text files\n",
        "for index, row in merged_df.iterrows():\n",
        "    category_id = row['category_id']\n",
        "    bbox = row['bbox_yolo']\n",
        "    filename = os.path.splitext(row['file_name'])[0]  # Remove the '.jpg' extension\n",
        "\n",
        "    # Create the text content\n",
        "    text_content = f\"{category_id} {' '.join(map(str, bbox))}\"\n",
        "\n",
        "    # Write the text content to a file\n",
        "    output_filename = os.path.join(output_dir, f\"{filename}.txt\")\n",
        "    with open(output_filename, 'w') as text_file:\n",
        "        text_file.write(text_content)\n"
      ],
      "metadata": {
        "execution": {
          "iopub.status.busy": "2023-10-08T08:22:58.668542Z",
          "iopub.execute_input": "2023-10-08T08:22:58.669540Z",
          "iopub.status.idle": "2023-10-08T08:23:00.320750Z",
          "shell.execute_reply.started": "2023-10-08T08:22:58.669502Z",
          "shell.execute_reply": "2023-10-08T08:23:00.319827Z"
        },
        "trusted": true,
        "id": "7L-fq6ObHf6m"
      },
      "execution_count": null,
      "outputs": []
    },
    {
      "cell_type": "code",
      "source": [
        "pip install ultralytics"
      ],
      "metadata": {
        "execution": {
          "iopub.status.busy": "2023-10-08T08:23:00.322154Z",
          "iopub.execute_input": "2023-10-08T08:23:00.322566Z",
          "iopub.status.idle": "2023-10-08T08:23:10.772145Z",
          "shell.execute_reply.started": "2023-10-08T08:23:00.322529Z",
          "shell.execute_reply": "2023-10-08T08:23:10.771014Z"
        },
        "trusted": true,
        "id": "1UkZXCT9Hf6m",
        "outputId": "e9994401-adca-4103-ce07-3517ea9dd636"
      },
      "execution_count": null,
      "outputs": [
        {
          "name": "stdout",
          "text": "Collecting ultralytics\n  Downloading ultralytics-8.0.195-py3-none-any.whl (618 kB)\n\u001b[2K     \u001b[90m━━━━━━━━━━━━━━━━━━━━━━━━━━━━━━━━━━━━━━\u001b[0m \u001b[32m618.9/618.9 kB\u001b[0m \u001b[31m10.0 MB/s\u001b[0m eta \u001b[36m0:00:00\u001b[0ma \u001b[36m0:00:01\u001b[0m\n\u001b[?25hRequirement already satisfied: matplotlib>=3.3.0 in /opt/conda/lib/python3.10/site-packages (from ultralytics) (3.7.2)\nRequirement already satisfied: numpy>=1.22.2 in /opt/conda/lib/python3.10/site-packages (from ultralytics) (1.23.5)\nRequirement already satisfied: opencv-python>=4.6.0 in /opt/conda/lib/python3.10/site-packages (from ultralytics) (4.8.0.76)\nRequirement already satisfied: pillow>=7.1.2 in /opt/conda/lib/python3.10/site-packages (from ultralytics) (9.5.0)\nRequirement already satisfied: pyyaml>=5.3.1 in /opt/conda/lib/python3.10/site-packages (from ultralytics) (6.0)\nRequirement already satisfied: requests>=2.23.0 in /opt/conda/lib/python3.10/site-packages (from ultralytics) (2.31.0)\nRequirement already satisfied: scipy>=1.4.1 in /opt/conda/lib/python3.10/site-packages (from ultralytics) (1.11.2)\nRequirement already satisfied: torch>=1.8.0 in /opt/conda/lib/python3.10/site-packages (from ultralytics) (2.0.0)\nRequirement already satisfied: torchvision>=0.9.0 in /opt/conda/lib/python3.10/site-packages (from ultralytics) (0.15.1)\nRequirement already satisfied: tqdm>=4.64.0 in /opt/conda/lib/python3.10/site-packages (from ultralytics) (4.66.1)\nRequirement already satisfied: pandas>=1.1.4 in /opt/conda/lib/python3.10/site-packages (from ultralytics) (2.0.2)\nRequirement already satisfied: seaborn>=0.11.0 in /opt/conda/lib/python3.10/site-packages (from ultralytics) (0.12.2)\nRequirement already satisfied: psutil in /opt/conda/lib/python3.10/site-packages (from ultralytics) (5.9.3)\nRequirement already satisfied: py-cpuinfo in /opt/conda/lib/python3.10/site-packages (from ultralytics) (9.0.0)\nCollecting thop>=0.1.1 (from ultralytics)\n  Downloading thop-0.1.1.post2209072238-py3-none-any.whl (15 kB)\nRequirement already satisfied: contourpy>=1.0.1 in /opt/conda/lib/python3.10/site-packages (from matplotlib>=3.3.0->ultralytics) (1.1.0)\nRequirement already satisfied: cycler>=0.10 in /opt/conda/lib/python3.10/site-packages (from matplotlib>=3.3.0->ultralytics) (0.11.0)\nRequirement already satisfied: fonttools>=4.22.0 in /opt/conda/lib/python3.10/site-packages (from matplotlib>=3.3.0->ultralytics) (4.40.0)\nRequirement already satisfied: kiwisolver>=1.0.1 in /opt/conda/lib/python3.10/site-packages (from matplotlib>=3.3.0->ultralytics) (1.4.4)\nRequirement already satisfied: packaging>=20.0 in /opt/conda/lib/python3.10/site-packages (from matplotlib>=3.3.0->ultralytics) (21.3)\nRequirement already satisfied: pyparsing<3.1,>=2.3.1 in /opt/conda/lib/python3.10/site-packages (from matplotlib>=3.3.0->ultralytics) (3.0.9)\nRequirement already satisfied: python-dateutil>=2.7 in /opt/conda/lib/python3.10/site-packages (from matplotlib>=3.3.0->ultralytics) (2.8.2)\nRequirement already satisfied: pytz>=2020.1 in /opt/conda/lib/python3.10/site-packages (from pandas>=1.1.4->ultralytics) (2023.3)\nRequirement already satisfied: tzdata>=2022.1 in /opt/conda/lib/python3.10/site-packages (from pandas>=1.1.4->ultralytics) (2023.3)\nRequirement already satisfied: charset-normalizer<4,>=2 in /opt/conda/lib/python3.10/site-packages (from requests>=2.23.0->ultralytics) (3.1.0)\nRequirement already satisfied: idna<4,>=2.5 in /opt/conda/lib/python3.10/site-packages (from requests>=2.23.0->ultralytics) (3.4)\nRequirement already satisfied: urllib3<3,>=1.21.1 in /opt/conda/lib/python3.10/site-packages (from requests>=2.23.0->ultralytics) (1.26.15)\nRequirement already satisfied: certifi>=2017.4.17 in /opt/conda/lib/python3.10/site-packages (from requests>=2.23.0->ultralytics) (2023.7.22)\nRequirement already satisfied: filelock in /opt/conda/lib/python3.10/site-packages (from torch>=1.8.0->ultralytics) (3.12.2)\nRequirement already satisfied: typing-extensions in /opt/conda/lib/python3.10/site-packages (from torch>=1.8.0->ultralytics) (4.6.3)\nRequirement already satisfied: sympy in /opt/conda/lib/python3.10/site-packages (from torch>=1.8.0->ultralytics) (1.12)\nRequirement already satisfied: networkx in /opt/conda/lib/python3.10/site-packages (from torch>=1.8.0->ultralytics) (3.1)\nRequirement already satisfied: jinja2 in /opt/conda/lib/python3.10/site-packages (from torch>=1.8.0->ultralytics) (3.1.2)\nRequirement already satisfied: six>=1.5 in /opt/conda/lib/python3.10/site-packages (from python-dateutil>=2.7->matplotlib>=3.3.0->ultralytics) (1.16.0)\nRequirement already satisfied: MarkupSafe>=2.0 in /opt/conda/lib/python3.10/site-packages (from jinja2->torch>=1.8.0->ultralytics) (2.1.3)\nRequirement already satisfied: mpmath>=0.19 in /opt/conda/lib/python3.10/site-packages (from sympy->torch>=1.8.0->ultralytics) (1.3.0)\nInstalling collected packages: thop, ultralytics\nSuccessfully installed thop-0.1.1.post2209072238 ultralytics-8.0.195\nNote: you may need to restart the kernel to use updated packages.\n",
          "output_type": "stream"
        }
      ]
    },
    {
      "cell_type": "code",
      "source": [
        "from ultralytics import YOLO\n",
        "\n",
        "# Load a model\n",
        "#model = YOLO(\"yolov8n.yaml\")  # build a new model from scratch\n",
        "#model = YOLO(\"yolov8n.pt\")  # load a pretrained model (recommended for training)\n",
        "model = YOLO('yolov8n.yaml').load('yolov8n.pt')  # build from YAML and transfer weights\n",
        "\n",
        "# Use the model\n",
        "results = model.train(data=\"/kaggle/input/chula-dataset-yaml/Chula_ParasiteEgg_yaml.yaml\", epochs=5)  # train the model\n",
        "#metrics = model.val()  # evaluate model performance on the validation set\n",
        "#results = model(\"https://ultralytics.com/images/bus.jpg\")  # predict on an image\n",
        "#path = model.export(format=\"onnx\")  # export the model to ONNX format"
      ],
      "metadata": {
        "execution": {
          "iopub.status.busy": "2023-10-08T08:23:15.928979Z",
          "iopub.execute_input": "2023-10-08T08:23:15.929332Z",
          "iopub.status.idle": "2023-10-08T10:35:21.216362Z",
          "shell.execute_reply.started": "2023-10-08T08:23:15.929303Z",
          "shell.execute_reply": "2023-10-08T10:35:21.214428Z"
        },
        "trusted": true,
        "id": "PhEEwakGHf6n",
        "outputId": "b1aa513b-2050-455b-f0f5-63c88ef9f502"
      },
      "execution_count": null,
      "outputs": [
        {
          "name": "stderr",
          "text": "\n                   from  n    params  module                                       arguments                     \n  0                  -1  1       464  ultralytics.nn.modules.conv.Conv             [3, 16, 3, 2]                 \n  1                  -1  1      4672  ultralytics.nn.modules.conv.Conv             [16, 32, 3, 2]                \n  2                  -1  1      7360  ultralytics.nn.modules.block.C2f             [32, 32, 1, True]             \n  3                  -1  1     18560  ultralytics.nn.modules.conv.Conv             [32, 64, 3, 2]                \n  4                  -1  2     49664  ultralytics.nn.modules.block.C2f             [64, 64, 2, True]             \n  5                  -1  1     73984  ultralytics.nn.modules.conv.Conv             [64, 128, 3, 2]               \n  6                  -1  2    197632  ultralytics.nn.modules.block.C2f             [128, 128, 2, True]           \n  7                  -1  1    295424  ultralytics.nn.modules.conv.Conv             [128, 256, 3, 2]              \n  8                  -1  1    460288  ultralytics.nn.modules.block.C2f             [256, 256, 1, True]           \n  9                  -1  1    164608  ultralytics.nn.modules.block.SPPF            [256, 256, 5]                 \n 10                  -1  1         0  torch.nn.modules.upsampling.Upsample         [None, 2, 'nearest']          \n 11             [-1, 6]  1         0  ultralytics.nn.modules.conv.Concat           [1]                           \n 12                  -1  1    148224  ultralytics.nn.modules.block.C2f             [384, 128, 1]                 \n 13                  -1  1         0  torch.nn.modules.upsampling.Upsample         [None, 2, 'nearest']          \n 14             [-1, 4]  1         0  ultralytics.nn.modules.conv.Concat           [1]                           \n 15                  -1  1     37248  ultralytics.nn.modules.block.C2f             [192, 64, 1]                  \n 16                  -1  1     36992  ultralytics.nn.modules.conv.Conv             [64, 64, 3, 2]                \n 17            [-1, 12]  1         0  ultralytics.nn.modules.conv.Concat           [1]                           \n 18                  -1  1    123648  ultralytics.nn.modules.block.C2f             [192, 128, 1]                 \n 19                  -1  1    147712  ultralytics.nn.modules.conv.Conv             [128, 128, 3, 2]              \n 20             [-1, 9]  1         0  ultralytics.nn.modules.conv.Concat           [1]                           \n 21                  -1  1    493056  ultralytics.nn.modules.block.C2f             [384, 256, 1]                 \n 22        [15, 18, 21]  1    897664  ultralytics.nn.modules.head.Detect           [80, [64, 128, 256]]          \nYOLOv8n summary: 225 layers, 3157200 parameters, 3157184 gradients, 8.9 GFLOPs\n\nDownloading https://github.com/ultralytics/assets/releases/download/v0.0.0/yolov8n.pt to 'yolov8n.pt'...\n100%|██████████| 6.23M/6.23M [00:00<00:00, 24.7MB/s]\nTransferred 355/355 items from pretrained weights\nUltralytics YOLOv8.0.195 🚀 Python-3.10.12 torch-2.0.0 CUDA:0 (Tesla P100-PCIE-16GB, 16281MiB)\n\u001b[34m\u001b[1mengine/trainer: \u001b[0mtask=detect, mode=train, model=yolov8n.yaml, data=/kaggle/input/chula-dataset-yaml/Chula_ParasiteEgg_yaml.yaml, epochs=5, patience=50, batch=16, imgsz=640, save=True, save_period=-1, cache=False, device=None, workers=8, project=None, name=None, exist_ok=False, pretrained=True, optimizer=auto, verbose=True, seed=0, deterministic=True, single_cls=False, rect=False, cos_lr=False, close_mosaic=10, resume=False, amp=True, fraction=1.0, profile=False, freeze=None, overlap_mask=True, mask_ratio=4, dropout=0.0, val=True, split=val, save_json=False, save_hybrid=False, conf=None, iou=0.7, max_det=300, half=False, dnn=False, plots=True, source=None, show=False, save_txt=False, save_conf=False, save_crop=False, show_labels=True, show_conf=True, vid_stride=1, stream_buffer=False, line_width=None, visualize=False, augment=False, agnostic_nms=False, classes=None, retina_masks=False, boxes=True, format=torchscript, keras=False, optimize=False, int8=False, dynamic=False, simplify=False, opset=None, workspace=4, nms=False, lr0=0.01, lrf=0.01, momentum=0.937, weight_decay=0.0005, warmup_epochs=3.0, warmup_momentum=0.8, warmup_bias_lr=0.1, box=7.5, cls=0.5, dfl=1.5, pose=12.0, kobj=1.0, label_smoothing=0.0, nbs=64, hsv_h=0.015, hsv_s=0.7, hsv_v=0.4, degrees=0.0, translate=0.1, scale=0.5, shear=0.0, perspective=0.0, flipud=0.0, fliplr=0.5, mosaic=1.0, mixup=0.0, copy_paste=0.0, cfg=None, tracker=botsort.yaml, save_dir=runs/detect/train\nDownloading https://ultralytics.com/assets/Arial.ttf to '/root/.config/Ultralytics/Arial.ttf'...\n100%|██████████| 755k/755k [00:00<00:00, 5.47MB/s]\nOverriding model.yaml nc=80 with nc=11\n\n                   from  n    params  module                                       arguments                     \n  0                  -1  1       464  ultralytics.nn.modules.conv.Conv             [3, 16, 3, 2]                 \n  1                  -1  1      4672  ultralytics.nn.modules.conv.Conv             [16, 32, 3, 2]                \n  2                  -1  1      7360  ultralytics.nn.modules.block.C2f             [32, 32, 1, True]             \n  3                  -1  1     18560  ultralytics.nn.modules.conv.Conv             [32, 64, 3, 2]                \n  4                  -1  2     49664  ultralytics.nn.modules.block.C2f             [64, 64, 2, True]             \n  5                  -1  1     73984  ultralytics.nn.modules.conv.Conv             [64, 128, 3, 2]               \n  6                  -1  2    197632  ultralytics.nn.modules.block.C2f             [128, 128, 2, True]           \n  7                  -1  1    295424  ultralytics.nn.modules.conv.Conv             [128, 256, 3, 2]              \n  8                  -1  1    460288  ultralytics.nn.modules.block.C2f             [256, 256, 1, True]           \n  9                  -1  1    164608  ultralytics.nn.modules.block.SPPF            [256, 256, 5]                 \n 10                  -1  1         0  torch.nn.modules.upsampling.Upsample         [None, 2, 'nearest']          \n 11             [-1, 6]  1         0  ultralytics.nn.modules.conv.Concat           [1]                           \n 12                  -1  1    148224  ultralytics.nn.modules.block.C2f             [384, 128, 1]                 \n 13                  -1  1         0  torch.nn.modules.upsampling.Upsample         [None, 2, 'nearest']          \n 14             [-1, 4]  1         0  ultralytics.nn.modules.conv.Concat           [1]                           \n 15                  -1  1     37248  ultralytics.nn.modules.block.C2f             [192, 64, 1]                  \n 16                  -1  1     36992  ultralytics.nn.modules.conv.Conv             [64, 64, 3, 2]                \n 17            [-1, 12]  1         0  ultralytics.nn.modules.conv.Concat           [1]                           \n 18                  -1  1    123648  ultralytics.nn.modules.block.C2f             [192, 128, 1]                 \n 19                  -1  1    147712  ultralytics.nn.modules.conv.Conv             [128, 128, 3, 2]              \n 20             [-1, 9]  1         0  ultralytics.nn.modules.conv.Concat           [1]                           \n 21                  -1  1    493056  ultralytics.nn.modules.block.C2f             [384, 256, 1]                 \n 22        [15, 18, 21]  1    753457  ultralytics.nn.modules.head.Detect           [11, [64, 128, 256]]          \nYOLOv8n summary: 225 layers, 3012993 parameters, 3012977 gradients, 8.2 GFLOPs\n\nTransferred 319/355 items from pretrained weights\n\u001b[34m\u001b[1mTensorBoard: \u001b[0mStart with 'tensorboard --logdir runs/detect/train', view at http://localhost:6006/\n\u001b[34m\u001b[1mwandb\u001b[0m: Logging into wandb.ai. (Learn how to deploy a W&B server locally: https://wandb.me/wandb-server)\n\u001b[34m\u001b[1mwandb\u001b[0m: You can find your API key in your browser here: https://wandb.ai/authorize\n\u001b[34m\u001b[1mwandb\u001b[0m: Paste an API key from your profile and hit enter, or press ctrl+c to quit:",
          "output_type": "stream"
        },
        {
          "output_type": "stream",
          "name": "stdin",
          "text": "  ········································\n"
        },
        {
          "name": "stderr",
          "text": "\u001b[34m\u001b[1mwandb\u001b[0m: Appending key for api.wandb.ai to your netrc file: /root/.netrc\n",
          "output_type": "stream"
        },
        {
          "output_type": "display_data",
          "data": {
            "text/plain": "<IPython.core.display.HTML object>",
            "text/html": "wandb version 0.15.12 is available!  To upgrade, please run:\n $ pip install wandb --upgrade"
          },
          "metadata": {}
        },
        {
          "output_type": "display_data",
          "data": {
            "text/plain": "<IPython.core.display.HTML object>",
            "text/html": "Tracking run with wandb version 0.15.9"
          },
          "metadata": {}
        },
        {
          "output_type": "display_data",
          "data": {
            "text/plain": "<IPython.core.display.HTML object>",
            "text/html": "Run data is saved locally in <code>/kaggle/working/wandb/run-20231008_082402-25xfalc0</code>"
          },
          "metadata": {}
        },
        {
          "output_type": "display_data",
          "data": {
            "text/plain": "<IPython.core.display.HTML object>",
            "text/html": "Syncing run <strong><a href='https://wandb.ai/kkdkariyawasam/YOLOv8/runs/25xfalc0' target=\"_blank\">bumbling-energy-2</a></strong> to <a href='https://wandb.ai/kkdkariyawasam/YOLOv8' target=\"_blank\">Weights & Biases</a> (<a href='https://wandb.me/run' target=\"_blank\">docs</a>)<br/>"
          },
          "metadata": {}
        },
        {
          "output_type": "display_data",
          "data": {
            "text/plain": "<IPython.core.display.HTML object>",
            "text/html": " View project at <a href='https://wandb.ai/kkdkariyawasam/YOLOv8' target=\"_blank\">https://wandb.ai/kkdkariyawasam/YOLOv8</a>"
          },
          "metadata": {}
        },
        {
          "output_type": "display_data",
          "data": {
            "text/plain": "<IPython.core.display.HTML object>",
            "text/html": " View run at <a href='https://wandb.ai/kkdkariyawasam/YOLOv8/runs/25xfalc0' target=\"_blank\">https://wandb.ai/kkdkariyawasam/YOLOv8/runs/25xfalc0</a>"
          },
          "metadata": {}
        },
        {
          "name": "stderr",
          "text": "Freezing layer 'model.22.dfl.conv.weight'\n\u001b[34m\u001b[1mAMP: \u001b[0mrunning Automatic Mixed Precision (AMP) checks with YOLOv8n...\n\u001b[34m\u001b[1mAMP: \u001b[0mchecks passed ✅\n\u001b[34m\u001b[1mtrain: \u001b[0mScanning /kaggle/working/Chula-ParasiteEgg-11/labels/train... 11000 images, 0 backgrounds, 5 corrupt: 100%|██████████| 11000/11000 [00:21<00:00, 521.67it/s]\n\u001b[34m\u001b[1mtrain: \u001b[0mWARNING ⚠️ /kaggle/working/Chula-ParasiteEgg-11/images/train/Ascaris lumbricoides_0526.jpg: ignoring corrupt image/label: non-normalized or out of bounds coordinates [     1.0442]\n\u001b[34m\u001b[1mtrain: \u001b[0mWARNING ⚠️ /kaggle/working/Chula-ParasiteEgg-11/images/train/Hookworm egg_0339.jpg: ignoring corrupt image/label: non-normalized or out of bounds coordinates [     1.0899]\n\u001b[34m\u001b[1mtrain: \u001b[0mWARNING ⚠️ /kaggle/working/Chula-ParasiteEgg-11/images/train/Opisthorchis viverrine_0012.jpg: ignoring corrupt image/label: negative label values [   -0.10435]\n\u001b[34m\u001b[1mtrain: \u001b[0mWARNING ⚠️ /kaggle/working/Chula-ParasiteEgg-11/images/train/Opisthorchis viverrine_0143.jpg: ignoring corrupt image/label: non-normalized or out of bounds coordinates [     1.2664]\n\u001b[34m\u001b[1mtrain: \u001b[0mWARNING ⚠️ /kaggle/working/Chula-ParasiteEgg-11/images/train/Opisthorchis viverrine_0144.jpg: ignoring corrupt image/label: negative label values [ -0.0044643]\n\u001b[34m\u001b[1mtrain: \u001b[0mNew cache created: /kaggle/working/Chula-ParasiteEgg-11/labels/train.cache\n\u001b[34m\u001b[1malbumentations: \u001b[0mBlur(p=0.01, blur_limit=(3, 7)), MedianBlur(p=0.01, blur_limit=(3, 7)), ToGray(p=0.01), CLAHE(p=0.01, clip_limit=(1, 4.0), tile_grid_size=(8, 8))\n\u001b[34m\u001b[1mval: \u001b[0mScanning /kaggle/working/Chula-ParasiteEgg-11/labels/train.cache... 11000 images, 0 backgrounds, 5 corrupt: 100%|██████████| 11000/11000 [00:00<?, ?it/s]\n\u001b[34m\u001b[1mtrain: \u001b[0mWARNING ⚠️ /kaggle/working/Chula-ParasiteEgg-11/images/train/Ascaris lumbricoides_0526.jpg: ignoring corrupt image/label: non-normalized or out of bounds coordinates [     1.0442]\n\u001b[34m\u001b[1mtrain: \u001b[0mWARNING ⚠️ /kaggle/working/Chula-ParasiteEgg-11/images/train/Hookworm egg_0339.jpg: ignoring corrupt image/label: non-normalized or out of bounds coordinates [     1.0899]\n\u001b[34m\u001b[1mtrain: \u001b[0mWARNING ⚠️ /kaggle/working/Chula-ParasiteEgg-11/images/train/Opisthorchis viverrine_0012.jpg: ignoring corrupt image/label: negative label values [   -0.10435]\n\u001b[34m\u001b[1mtrain: \u001b[0mWARNING ⚠️ /kaggle/working/Chula-ParasiteEgg-11/images/train/Opisthorchis viverrine_0143.jpg: ignoring corrupt image/label: non-normalized or out of bounds coordinates [     1.2664]\n\u001b[34m\u001b[1mtrain: \u001b[0mWARNING ⚠️ /kaggle/working/Chula-ParasiteEgg-11/images/train/Opisthorchis viverrine_0144.jpg: ignoring corrupt image/label: negative label values [ -0.0044643]\nPlotting labels to runs/detect/train/labels.jpg... \n\u001b[34m\u001b[1moptimizer:\u001b[0m 'optimizer=auto' found, ignoring 'lr0=0.01' and 'momentum=0.937' and determining best 'optimizer', 'lr0' and 'momentum' automatically... \n\u001b[34m\u001b[1moptimizer:\u001b[0m AdamW(lr=0.000667, momentum=0.9) with parameter groups 57 weight(decay=0.0), 64 weight(decay=0.0005), 63 bias(decay=0.0)\nImage sizes 640 train, 640 val\nUsing 2 dataloader workers\nLogging results to \u001b[1mruns/detect/train\u001b[0m\nStarting training for 5 epochs...\n\n      Epoch    GPU_mem   box_loss   cls_loss   dfl_loss  Instances       Size\n        1/5      2.34G     0.7649      2.613     0.9387          6        640: 100%|██████████| 688/688 [12:34<00:00,  1.10s/it]\n                 Class     Images  Instances      Box(P          R      mAP50  mAP50-95): 100%|██████████| 344/344 [11:06<00:00,  1.94s/it]\n                   all      10995      10995      0.834       0.84      0.911      0.762\n\n      Epoch    GPU_mem   box_loss   cls_loss   dfl_loss  Instances       Size\n        2/5      2.45G     0.6875      1.243     0.9255          5        640: 100%|██████████| 688/688 [12:27<00:00,  1.09s/it]\n                 Class     Images  Instances      Box(P          R      mAP50  mAP50-95): 100%|██████████| 344/344 [11:06<00:00,  1.94s/it]\n                   all      10995      10995      0.912      0.907      0.956      0.814\n\n      Epoch    GPU_mem   box_loss   cls_loss   dfl_loss  Instances       Size\n        3/5      2.36G     0.6507      0.887     0.9144          7        640: 100%|██████████| 688/688 [12:32<00:00,  1.09s/it]\n                 Class     Images  Instances      Box(P          R      mAP50  mAP50-95): 100%|██████████| 344/344 [11:18<00:00,  1.97s/it]\n                   all      10995      10995      0.929      0.936      0.974      0.851\n\n      Epoch    GPU_mem   box_loss   cls_loss   dfl_loss  Instances       Size\n        4/5      2.36G     0.6083      0.684     0.8991          6        640: 100%|██████████| 688/688 [12:26<00:00,  1.08s/it]\n                 Class     Images  Instances      Box(P          R      mAP50  mAP50-95): 100%|██████████| 344/344 [11:04<00:00,  1.93s/it]\n                   all      10995      10995      0.949       0.95      0.983       0.87\n\n      Epoch    GPU_mem   box_loss   cls_loss   dfl_loss  Instances       Size\n        5/5      2.36G     0.5883     0.6054     0.8923          4        640: 100%|██████████| 688/688 [12:26<00:00,  1.09s/it]\n                 Class     Images  Instances      Box(P          R      mAP50  mAP50-95): 100%|██████████| 344/344 [11:12<00:00,  1.96s/it]\n                   all      10995      10995      0.962      0.963      0.986      0.881\n\n5 epochs completed in 1.976 hours.\nOptimizer stripped from runs/detect/train/weights/last.pt, 6.2MB\nOptimizer stripped from runs/detect/train/weights/best.pt, 6.2MB\n\nValidating runs/detect/train/weights/best.pt...\nUltralytics YOLOv8.0.195 🚀 Python-3.10.12 torch-2.0.0 CUDA:0 (Tesla P100-PCIE-16GB, 16281MiB)\nYOLOv8n summary (fused): 168 layers, 3007793 parameters, 0 gradients, 8.1 GFLOPs\n                 Class     Images  Instances      Box(P          R      mAP50  mAP50-95): 100%|██████████| 344/344 [11:11<00:00,  1.95s/it]\n                   all      10995      10995      0.962      0.962      0.986      0.881\n  Ascaris lumbricoides      10995        999      0.977      0.895      0.984      0.927\nCapillaria philippinensis      10995       1000      0.912      0.956      0.979      0.832\nEnterobius vermicularis      10995       1000      0.925      0.961      0.966      0.825\n    Fasciolopsis buski      10995       1000      0.961      0.991      0.993      0.903\n          Hookworm egg      10995        999      0.979       0.99      0.988      0.828\n  Hymenolepis diminuta      10995       1000      0.978      0.987      0.994      0.965\n      Hymenolepis nana      10995       1000      0.963      0.973      0.989      0.865\nOpisthorchis viverrine      10995        997      0.976      0.948       0.99      0.827\n       Paragonimus spp      10995       1000      0.931      0.974       0.98      0.922\n       Taenia spp. egg      10995       1000      0.985      0.989      0.993      0.909\n   Trichuris trichiura      10995       1000      0.995      0.921      0.992      0.889\nSpeed: 0.1ms preprocess, 1.6ms inference, 0.0ms loss, 1.2ms postprocess per image\nResults saved to \u001b[1mruns/detect/train\u001b[0m\n",
          "output_type": "stream"
        },
        {
          "output_type": "display_data",
          "data": {
            "text/plain": "<IPython.core.display.HTML object>",
            "text/html": "Waiting for W&B process to finish... <strong style=\"color:green\">(success).</strong>"
          },
          "metadata": {}
        },
        {
          "output_type": "display_data",
          "data": {
            "text/plain": "<IPython.core.display.HTML object>",
            "text/html": "<style>\n    table.wandb td:nth-child(1) { padding: 0 10px; text-align: left ; width: auto;} td:nth-child(2) {text-align: left ; width: 100%}\n    .wandb-row { display: flex; flex-direction: row; flex-wrap: wrap; justify-content: flex-start; width: 100% }\n    .wandb-col { display: flex; flex-direction: column; flex-basis: 100%; flex: 1; padding: 10px; }\n    </style>\n<div class=\"wandb-row\"><div class=\"wandb-col\"><h3>Run history:</h3><br/><table class=\"wandb\"><tr><td>lr/pg0</td><td>▁▆█▃▃</td></tr><tr><td>lr/pg1</td><td>▁▆█▃▃</td></tr><tr><td>lr/pg2</td><td>▁▆█▃▃</td></tr><tr><td>metrics/mAP50(B)</td><td>▁▅▇██</td></tr><tr><td>metrics/mAP50-95(B)</td><td>▁▄▆▇█</td></tr><tr><td>metrics/precision(B)</td><td>▁▅▆▇█</td></tr><tr><td>metrics/recall(B)</td><td>▁▅▆▇█</td></tr><tr><td>model/GFLOPs</td><td>▁</td></tr><tr><td>model/parameters</td><td>▁</td></tr><tr><td>model/speed_PyTorch(ms)</td><td>▁</td></tr><tr><td>train/box_loss</td><td>█▅▃▂▁</td></tr><tr><td>train/cls_loss</td><td>█▃▂▁▁</td></tr><tr><td>train/dfl_loss</td><td>█▆▄▂▁</td></tr><tr><td>val/box_loss</td><td>█▆▃▂▁</td></tr><tr><td>val/cls_loss</td><td>█▄▂▁▁</td></tr><tr><td>val/dfl_loss</td><td>█▆▄▂▁</td></tr></table><br/></div><div class=\"wandb-col\"><h3>Run summary:</h3><br/><table class=\"wandb\"><tr><td>lr/pg0</td><td>0.00027</td></tr><tr><td>lr/pg1</td><td>0.00027</td></tr><tr><td>lr/pg2</td><td>0.00027</td></tr><tr><td>metrics/mAP50(B)</td><td>0.98622</td></tr><tr><td>metrics/mAP50-95(B)</td><td>0.88103</td></tr><tr><td>metrics/precision(B)</td><td>0.962</td></tr><tr><td>metrics/recall(B)</td><td>0.96224</td></tr><tr><td>model/GFLOPs</td><td>8.205</td></tr><tr><td>model/parameters</td><td>3012993</td></tr><tr><td>model/speed_PyTorch(ms)</td><td>1.57</td></tr><tr><td>train/box_loss</td><td>0.58826</td></tr><tr><td>train/cls_loss</td><td>0.60537</td></tr><tr><td>train/dfl_loss</td><td>0.89233</td></tr><tr><td>val/box_loss</td><td>0.49081</td></tr><tr><td>val/cls_loss</td><td>0.42114</td></tr><tr><td>val/dfl_loss</td><td>0.84915</td></tr></table><br/></div></div>"
          },
          "metadata": {}
        },
        {
          "output_type": "display_data",
          "data": {
            "text/plain": "<IPython.core.display.HTML object>",
            "text/html": " View run <strong style=\"color:#cdcd00\">bumbling-energy-2</strong> at: <a href='https://wandb.ai/kkdkariyawasam/YOLOv8/runs/25xfalc0' target=\"_blank\">https://wandb.ai/kkdkariyawasam/YOLOv8/runs/25xfalc0</a><br/>Synced 6 W&B file(s), 17 media file(s), 1 artifact file(s) and 0 other file(s)"
          },
          "metadata": {}
        },
        {
          "output_type": "display_data",
          "data": {
            "text/plain": "<IPython.core.display.HTML object>",
            "text/html": "Find logs at: <code>./wandb/run-20231008_082402-25xfalc0/logs</code>"
          },
          "metadata": {}
        }
      ]
    },
    {
      "cell_type": "code",
      "source": [
        "source_directory = '/kaggle/working/wandb'\n",
        "zip_file_path = '/kaggle/working/wandb.zip'\n",
        "shutil.make_archive(zip_file_path.split(\".\")[0], 'zip', source_directory)"
      ],
      "metadata": {
        "execution": {
          "iopub.status.busy": "2023-10-08T10:41:39.077772Z",
          "iopub.execute_input": "2023-10-08T10:41:39.078192Z",
          "iopub.status.idle": "2023-10-08T10:41:39.418788Z",
          "shell.execute_reply.started": "2023-10-08T10:41:39.078157Z",
          "shell.execute_reply": "2023-10-08T10:41:39.417697Z"
        },
        "trusted": true,
        "id": "DI6mUG6PHf6n",
        "outputId": "5fa910ad-bd50-4cd0-b26c-e1f8ad884441"
      },
      "execution_count": null,
      "outputs": [
        {
          "execution_count": 16,
          "output_type": "execute_result",
          "data": {
            "text/plain": "'/kaggle/working/wandb.zip'"
          },
          "metadata": {}
        }
      ]
    },
    {
      "cell_type": "code",
      "source": [
        "source_directory = '/kaggle/working/runs'\n",
        "zip_file_path = '/kaggle/working/runs.zip'\n",
        "shutil.make_archive(zip_file_path.split(\".\")[0], 'zip', source_directory)"
      ],
      "metadata": {
        "execution": {
          "iopub.status.busy": "2023-10-08T10:42:43.696958Z",
          "iopub.execute_input": "2023-10-08T10:42:43.698135Z",
          "iopub.status.idle": "2023-10-08T10:42:44.594809Z",
          "shell.execute_reply.started": "2023-10-08T10:42:43.698079Z",
          "shell.execute_reply": "2023-10-08T10:42:44.593817Z"
        },
        "trusted": true,
        "id": "fTXIqWrMHf6n",
        "outputId": "e0996c35-35fb-4e35-df9d-422a6ead0b9b"
      },
      "execution_count": null,
      "outputs": [
        {
          "execution_count": 19,
          "output_type": "execute_result",
          "data": {
            "text/plain": "'/kaggle/working/runs.zip'"
          },
          "metadata": {}
        }
      ]
    },
    {
      "cell_type": "code",
      "source": [
        "from IPython.display import FileLink\n",
        "\n",
        "zip_file_path = '/kaggle/working/runs.zip'\n",
        "FileLink(zip_file_path)"
      ],
      "metadata": {
        "execution": {
          "iopub.status.busy": "2023-10-08T10:41:47.602297Z",
          "iopub.execute_input": "2023-10-08T10:41:47.602662Z",
          "iopub.status.idle": "2023-10-08T10:41:47.609605Z",
          "shell.execute_reply.started": "2023-10-08T10:41:47.602633Z",
          "shell.execute_reply": "2023-10-08T10:41:47.608546Z"
        },
        "trusted": true,
        "id": "Ip2gY05HHf6n",
        "outputId": "2416244b-ee70-40a7-f18c-6c89ca9bdfeb"
      },
      "execution_count": null,
      "outputs": [
        {
          "execution_count": 18,
          "output_type": "execute_result",
          "data": {
            "text/plain": "/kaggle/working/runs.zip",
            "text/html": "Path (<tt>/kaggle/working/runs.zip</tt>) doesn't exist. It may still be in the process of being generated, or you may have the incorrect path."
          },
          "metadata": {}
        }
      ]
    },
    {
      "cell_type": "code",
      "source": [],
      "metadata": {
        "id": "FTwMr7w9Hf6n"
      },
      "execution_count": null,
      "outputs": []
    }
  ]
}